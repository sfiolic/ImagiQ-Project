{
 "cells": [
  {
   "cell_type": "code",
   "execution_count": 63,
   "metadata": {},
   "outputs": [],
   "source": [
    "import cv2\n",
    "import os\n",
    "import torch\n",
    "import numpy as np\n",
    "\n",
    "# Write the function for uploading all png files in the file folder.\n",
    "def load_images_from_folder(folder):\n",
    "    images = []\n",
    "    for filename in os.listdir(folder):\n",
    "        img = cv2.imread(os.path.join(folder,filename))\n",
    "        if img is not None:\n",
    "            images.append(img)\n",
    "    return images\n",
    "\n",
    "folder = r\"E:\\archive\\images_001\\images\"\n",
    "\n",
    "# I realize that png files are very large. Thus, I only select 81 images in images_001 as the training set to build the naive model on my laptop. \n",
    "# They are images for patient No. 32, 72, 147, 149 and 150."
   ]
  },
  {
   "cell_type": "code",
   "execution_count": 64,
   "metadata": {},
   "outputs": [],
   "source": [
    "img = load_images_from_folder(folder)"
   ]
  },
  {
   "cell_type": "code",
   "execution_count": null,
   "metadata": {},
   "outputs": [],
   "source": [
    "img_tensor = torch.FloatTensor(img)"
   ]
  },
  {
   "cell_type": "code",
   "execution_count": 66,
   "metadata": {},
   "outputs": [],
   "source": [
    "(n, height, width, color_depth) = np.shape(img) # 81*1024*1024*3"
   ]
  },
  {
   "cell_type": "code",
   "execution_count": 67,
   "metadata": {},
   "outputs": [],
   "source": [
    "# According to BBox_List_2017, it seems that it contains all images which show there is some disease.\n",
    "\n",
    "# This is a two-class classification problem. I use the probability of disease as the output. \n",
    "# To avoid NaN, I use 0.01 for non-disease and 0.99 for disease in the training set\n",
    "result = 0.01 + np.zeros((n,1), dtype=float) "
   ]
  },
  {
   "cell_type": "markdown",
   "metadata": {},
   "source": [
    "I do have questions about the kinds of diseases. Is this a 2-class classification or multi-class classification? It seems that in README_CHESTXRAY.pdf there are many kinds of lung disease shown in X-ray images."
   ]
  },
  {
   "cell_type": "code",
   "execution_count": 68,
   "metadata": {},
   "outputs": [],
   "source": [
    "# Among these 81 images, there are 32_037,72_000 ,147_001, 149_006 and 150_002 which show the disease.\n",
    "result[37] = result[37] + 0.98\n",
    "result[61] = result[61] + 0.98\n",
    "result[63] = result[63] + 0.98\n",
    "result[71] = result[71] + 0.98\n",
    "result[77] = result[77] + 0.98\n",
    "result_tensor = torch.FloatTensor(result)"
   ]
  },
  {
   "cell_type": "code",
   "execution_count": 108,
   "metadata": {},
   "outputs": [
    {
     "name": "stdout",
     "output_type": "stream",
     "text": [
      "0 tensor(283.7357)\n",
      "1 tensor(346.7810)\n",
      "2 tensor(346.7810)\n",
      "3 tensor(346.7810)\n",
      "4 tensor(346.7810)\n",
      "5 tensor(346.7810)\n",
      "6 tensor(346.7810)\n",
      "7 tensor(346.7810)\n",
      "8 tensor(346.7810)\n",
      "9 tensor(346.7810)\n"
     ]
    }
   ],
   "source": [
    "dtype = torch.float\n",
    "device = torch.device(\"cpu\")\n",
    "# device = torch.device(\"cuda:0\") # Uncomment this to run on GPU\n",
    "\n",
    "# B is batch size\n",
    "B = 50\n",
    "\n",
    "# H is hidden dimension\n",
    "H = 30\n",
    "\n",
    "# Create input and output data\n",
    "x = img_tensor\n",
    "x = torch.reshape(x, (n, height*width*color_depth))\n",
    "y = result_tensor # two class classification\n",
    "\n",
    "# Randomly initialize weights\n",
    "w1 = torch.randn(height*width*color_depth, H, device = device, dtype = dtype)\n",
    "w2 = torch.randn(H, 1, device = device, dtype = dtype)\n",
    "\n",
    "learning_rate = 1e-6\n",
    "for t in range(10):\n",
    "    # Forward pass: compute predicted y\n",
    "    # y_hat = h_2 *w_2 = (h - 2)*w_2 = (x * w_1 - 2)*w_2\n",
    "    h = torch.mm(x, w1) - 2\n",
    "    h_2 = torch.mm(h, w2)\n",
    "    y_pred = torch.sigmoid(h_2)\n",
    "    y_pred[y_pred < 0.01 ] = 0.01\n",
    "    y_pred[y_pred > 0.99 ] = 0.99 # To avoid NaN\n",
    "    \n",
    "    # Compute and print cross-entropy loss\n",
    "    # L(y_hat; w) = -y*log(1-y_hat) - (1-y)*log(1-y_hat)\n",
    "    loss = (-y*np.log(y_pred)-(1-y)*np.log(1-y_pred)).sum()\n",
    "    print(t, loss)\n",
    "\n",
    "    # Backward propogation to compute gradients of w1 and w2 with respect to loss\n",
    "    # dL/dy_hat = -y/(y_hat*(1-y_hat))\n",
    "    grad_y_pred = -y/(y_pred*(1-y_pred))\n",
    "    # dy_hat/dh_2 = y_hat*(1-y_hat)\n",
    "    grad_h2 = y_pred*(1-y_pred)\n",
    "    # dy_hat/dw_2 = h\n",
    "    grad_w2 = torch.mm(torch.t(h), -y)\n",
    "    # dy_hat/dh = w_2\n",
    "    grad_h = torch.mm(-y, torch.t(w2))\n",
    "    # dh/dw_1 = x\n",
    "    grad_w1 = torch.mm(torch.t(x), grad_h)\n",
    "\n",
    "    # Update weights using gradient descent\n",
    "    w1 = w1 - learning_rate * grad_w1\n",
    "    w2 = w2 - learning_rate * grad_w2"
   ]
  },
  {
   "cell_type": "code",
   "execution_count": 110,
   "metadata": {},
   "outputs": [],
   "source": [
    "#  Similarly, I only select 81 images in images_002 as the test set. \n",
    "# They are images for patient No. 1369 and 1373-1378.\n",
    "\n",
    "test_folder=r\"E:\\archive\\images_002\\images\"\n",
    "\n",
    "img_test = load_images_from_folder(test_folder)\n",
    "\n",
    "img_tensor_test = torch.FloatTensor(img_test)\n",
    "\n",
    "(n_test, height, width, color_depth) = np.shape(img_test)"
   ]
  },
  {
   "cell_type": "code",
   "execution_count": 111,
   "metadata": {},
   "outputs": [],
   "source": [
    "# Among these 81 images, there are 1369_000, 1373_009 and 1373_039 which show the disease.\n",
    "# To avoid NaN, I use 0.01 for non-disease and 0.99 for disease in the training set\n",
    "test_result = 0.01 + np.zeros((n_test,1), dtype=float)\n",
    "test_result[0] = test_result[0] + 0.98\n",
    "test_result[10] = test_result[10] + 0.98\n",
    "test_result[40] = test_result[40] + 0.98\n",
    "test_result_tensor = torch.FloatTensor(test_result)"
   ]
  },
  {
   "cell_type": "code",
   "execution_count": 116,
   "metadata": {},
   "outputs": [],
   "source": [
    "x_test = img_tensor_test\n",
    "x_test = torch.reshape(x_test, (n_test, height*width*color_depth))\n",
    "y_test = test_result_tensor\n",
    "h_test = torch.mm(x_test, w1) - 2\n",
    "h_2_test = torch.mm(h_test, w2)\n",
    "y_pred_test = torch.sigmoid(h_2_test)\n",
    "y_pred_test[y_pred_test < 0.01 ] = 0.01\n",
    "y_pred_test[y_pred_test > 0.99 ] = 0.99 # To avoid NaN\n",
    "loss_test = (-y_test*np.log(y_pred_test)-(1-y_test)*np.log(1-y_pred_test)).sum()"
   ]
  },
  {
   "cell_type": "code",
   "execution_count": 119,
   "metadata": {},
   "outputs": [
    {
     "data": {
      "text/plain": [
       "tensor(355.7874)"
      ]
     },
     "execution_count": 119,
     "metadata": {},
     "output_type": "execute_result"
    }
   ],
   "source": [
    "loss_test"
   ]
  },
  {
   "cell_type": "markdown",
   "metadata": {},
   "source": [
    "The naive model performance is bad, which is reasonable. The dataset is too small and unbalanced; the model is too simple; the number of iteration is too small. "
   ]
  }
 ],
 "metadata": {
  "kernelspec": {
   "display_name": "Python 3",
   "language": "python",
   "name": "python3"
  },
  "language_info": {
   "codemirror_mode": {
    "name": "ipython",
    "version": 3
   },
   "file_extension": ".py",
   "mimetype": "text/x-python",
   "name": "python",
   "nbconvert_exporter": "python",
   "pygments_lexer": "ipython3",
   "version": "3.6.5"
  }
 },
 "nbformat": 4,
 "nbformat_minor": 4
}
